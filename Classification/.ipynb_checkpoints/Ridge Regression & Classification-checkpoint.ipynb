{
 "cells": [
  {
   "cell_type": "markdown",
   "id": "6f6039ab-5ea1-45d4-b7ba-f588e690aff2",
   "metadata": {},
   "source": [
    "### Ridge regression and classification"
   ]
  },
  {
   "cell_type": "markdown",
   "id": "2134cb5b-8017-4c8a-8cf6-344451c0bebf",
   "metadata": {},
   "source": [
    "#### 1.1.2.1. Regression"
   ]
  },
  {
   "cell_type": "markdown",
   "id": "13f605be-c03f-41b0-a0a0-67a6ba6f0798",
   "metadata": {},
   "source": [
    "Ridge regression addresses some of the problems of OLS by imposing a penalty on the size of the coefficients."
   ]
  },
  {
   "cell_type": "code",
   "execution_count": 1,
   "id": "f2836ea3-85fe-4028-9cc6-f6fedb4be9e3",
   "metadata": {},
   "outputs": [
    {
     "data": {
      "text/plain": [
       "(array([0.34545455, 0.34545455]), 0.13636363636363638)"
      ]
     },
     "execution_count": 1,
     "metadata": {},
     "output_type": "execute_result"
    }
   ],
   "source": [
    "from sklearn import linear_model\n",
    "reg = linear_model.Ridge(alpha=0.5)\n",
    "reg.fit([[0,0],[0,0],[1,1]],[0,.1,1])\n",
    "reg.coef_, reg.intercept_"
   ]
  },
  {
   "cell_type": "markdown",
   "id": "85e720c1-c11f-41f4-adfc-fd2f7fdc4b9d",
   "metadata": {},
   "source": [
    "#### 1.1.2.2. Classification"
   ]
  },
  {
   "cell_type": "code",
   "execution_count": null,
   "id": "231e05ed-0a95-4029-9a80-684eac0d23c9",
   "metadata": {},
   "outputs": [],
   "source": []
  }
 ],
 "metadata": {
  "kernelspec": {
   "display_name": "Python 3 (ipykernel)",
   "language": "python",
   "name": "python3"
  },
  "language_info": {
   "codemirror_mode": {
    "name": "ipython",
    "version": 3
   },
   "file_extension": ".py",
   "mimetype": "text/x-python",
   "name": "python",
   "nbconvert_exporter": "python",
   "pygments_lexer": "ipython3",
   "version": "3.10.8"
  }
 },
 "nbformat": 4,
 "nbformat_minor": 5
}
