{
 "cells": [
  {
   "cell_type": "markdown",
   "id": "2117e147-36c3-456e-b66a-fec114357f58",
   "metadata": {},
   "source": [
    "## Tensors"
   ]
  },
  {
   "cell_type": "markdown",
   "id": "397fe123-5d2b-41e7-bba3-44427fef4a92",
   "metadata": {},
   "source": [
    "+ Tensors are a specialized data structure that are very similar to arrays an matrices. \n",
    "In PyTorch, tensors are used to encode the inputs and output of a model, as well as the paramters of the model\n",
    "+ Tensors are similat to NumPy's `ndarrays`, except that tensors can run on GPUs or other hardware accelerators\n",
    "+ Tensors are also optimized for automatic differentiation"
   ]
  },
  {
   "cell_type": "code",
   "execution_count": 23,
   "id": "152229ce-121a-4fd9-a7d3-8e45c2925d51",
   "metadata": {},
   "outputs": [],
   "source": [
    "import torch\n",
    "import numpy as np"
   ]
  },
  {
   "cell_type": "markdown",
   "id": "505c4a7c-cf5f-430f-a55c-deb64766bfae",
   "metadata": {},
   "source": [
    "### Initializing a Tensor"
   ]
  },
  {
   "cell_type": "markdown",
   "id": "0142dfdd-4346-4a75-816b-7f650964969b",
   "metadata": {},
   "source": [
    "#### Directly from data"
   ]
  },
  {
   "cell_type": "code",
   "execution_count": 24,
   "id": "b34687d2-ae49-4095-be8e-cd6dab7d59ed",
   "metadata": {},
   "outputs": [
    {
     "data": {
      "text/plain": [
       "tensor([[[1, 2],\n",
       "         [3, 4],\n",
       "         [5, 6]]])"
      ]
     },
     "execution_count": 24,
     "metadata": {},
     "output_type": "execute_result"
    }
   ],
   "source": [
    "data = [[[1,2],[3,4],[5,6]]]\n",
    "x_data = torch.tensor(data)\n",
    "x_data"
   ]
  },
  {
   "cell_type": "markdown",
   "id": "9773c9bd-3c72-46e1-97a3-641fc785c065",
   "metadata": {},
   "source": [
    "#### From a NumPy array"
   ]
  },
  {
   "cell_type": "code",
   "execution_count": 25,
   "id": "b994a9cf-5b11-44b3-8ecf-5c76ed20bbdf",
   "metadata": {},
   "outputs": [
    {
     "data": {
      "text/plain": [
       "tensor([[[1, 2],\n",
       "         [3, 4],\n",
       "         [5, 6]]])"
      ]
     },
     "execution_count": 25,
     "metadata": {},
     "output_type": "execute_result"
    }
   ],
   "source": [
    "np_array = np.array(data)\n",
    "x_np = torch.from_numpy(np_array)\n",
    "x_np"
   ]
  },
  {
   "cell_type": "markdown",
   "id": "a9da5733-b9a7-4385-a046-30bf4afcc501",
   "metadata": {},
   "source": [
    "#### From another tensor\n",
    "+ The new tensor retais the properties (shape, datatype) or the argument tensor"
   ]
  },
  {
   "cell_type": "code",
   "execution_count": 26,
   "id": "7f991183-c39e-477a-8012-f658271858ed",
   "metadata": {},
   "outputs": [
    {
     "name": "stdout",
     "output_type": "stream",
     "text": [
      "Ones Tensor: \n",
      " tensor([[[1, 1],\n",
      "         [1, 1],\n",
      "         [1, 1]]]) \n",
      "\n"
     ]
    }
   ],
   "source": [
    "x_ones = torch.ones_like(x_data)\n",
    "print(f\"Ones Tensor: \\n {x_ones} \\n\")"
   ]
  },
  {
   "cell_type": "code",
   "execution_count": 27,
   "id": "9c974423-5942-492d-8591-8de8cb167ccb",
   "metadata": {},
   "outputs": [
    {
     "name": "stdout",
     "output_type": "stream",
     "text": [
      "Random Tensor: \n",
      " tensor([[[0.1092, 0.5966],\n",
      "         [0.7199, 0.8766],\n",
      "         [0.3046, 0.2092]]]) \n",
      "\n"
     ]
    }
   ],
   "source": [
    "x_rand = torch.rand_like(x_data, dtype=torch.float)\n",
    "print(f\"Random Tensor: \\n {x_rand} \\n\")"
   ]
  },
  {
   "cell_type": "markdown",
   "id": "6a636b53-1f89-484c-b871-f15a361c8184",
   "metadata": {},
   "source": [
    "#### With random or constant values"
   ]
  },
  {
   "cell_type": "markdown",
   "id": "ac7a39b0-8ef5-4f32-ae5a-c8c0fc5223f1",
   "metadata": {},
   "source": [
    "+ `shape` is a tuple of tensor dimensions"
   ]
  },
  {
   "cell_type": "markdown",
   "id": "e88ad7ce-9a63-40c6-aba8-caae68c4ddda",
   "metadata": {},
   "source": [
    "shape = (2,3)\n",
    "rand_tensor = torch.rand(shape)\n",
    "ones_tensor = torch.ones(shape)\n",
    "zeros_tensor = torch.zeros(shape)\n",
    "\n",
    "print(f\"Random Tensor: \\n {rand_tensor} \\n\")\n",
    "print(f\"Ones Tensor: \\n {ones_tensor} \\n\")\n",
    "print(f\"Zeroes Tensor: \\n {zeros_tensor} \\n\")"
   ]
  },
  {
   "cell_type": "markdown",
   "id": "119385c4-31e0-4f9d-adbf-c4e396f8bb99",
   "metadata": {},
   "source": [
    "---"
   ]
  },
  {
   "cell_type": "markdown",
   "id": "20803432-43e4-41de-9a96-675462968b03",
   "metadata": {},
   "source": [
    "### Attributes of a Tensor"
   ]
  },
  {
   "cell_type": "code",
   "execution_count": 28,
   "id": "434a266c-057c-4a56-b515-330e7085f4d6",
   "metadata": {},
   "outputs": [
    {
     "name": "stdout",
     "output_type": "stream",
     "text": [
      "Shape of tensor: torch.Size([3, 4])\n",
      "Datatype of tensor: torch.float32\n",
      "Device tensor is stored on: cpu\n"
     ]
    }
   ],
   "source": [
    "tensor = torch.rand(3,4)\n",
    "\n",
    "print(f\"Shape of tensor: {tensor.shape}\")\n",
    "print(f\"Datatype of tensor: {tensor.dtype}\")\n",
    "print(f\"Device tensor is stored on: {tensor.device}\")"
   ]
  },
  {
   "cell_type": "markdown",
   "id": "b2921286-1226-4a36-8dc7-855c5c121e5a",
   "metadata": {},
   "source": [
    "---"
   ]
  },
  {
   "cell_type": "markdown",
   "id": "e48a96c0-4c7b-429d-adb8-ca881b3fae6d",
   "metadata": {},
   "source": [
    "### Operations on Tensors"
   ]
  },
  {
   "cell_type": "markdown",
   "id": "394586bc-42b5-4749-963f-cdeea67f30f5",
   "metadata": {},
   "source": [
    "+ Over 100 tensor operations, including arithmetic, linear algebra, matrix manipulation, sampling, etc...\n",
    "+ Each can be run on a GPU; by default tensors are created on the CPU"
   ]
  },
  {
   "cell_type": "code",
   "execution_count": 29,
   "id": "bb7f9844-735f-416c-9e72-a23ed436de58",
   "metadata": {},
   "outputs": [],
   "source": [
    "## move the tensor to the GPU is available\n",
    "if torch.cuda.is_available():\n",
    "    tensor = tensor.to('cuda')"
   ]
  },
  {
   "cell_type": "markdown",
   "id": "eb4f8959-50bc-47cb-9e67-5e9efa5d467f",
   "metadata": {},
   "source": [
    "#### Standard numpy-like indexing and slicing:"
   ]
  },
  {
   "cell_type": "code",
   "execution_count": 30,
   "id": "e69924f2-fade-4013-927d-2a9f7eb7c91d",
   "metadata": {},
   "outputs": [
    {
     "name": "stdout",
     "output_type": "stream",
     "text": [
      "First row: tensor([1., 1., 1., 1.])\n",
      "First column: tensor([1., 1., 1., 1.])\n",
      "Last column: tensor([1., 1., 1., 1.])\n",
      "tensor([[1., 0., 1., 1.],\n",
      "        [1., 0., 1., 1.],\n",
      "        [1., 0., 1., 1.],\n",
      "        [1., 0., 1., 1.]])\n"
     ]
    }
   ],
   "source": [
    "tensor = torch.ones(4,4)\n",
    "print(f\"First row: {tensor[0]}\")\n",
    "print(f\"First column: {tensor[:,0]}\")\n",
    "print(f\"Last column: {tensor[...,-1]}\")\n",
    "tensor[:,1] = 0\n",
    "print(tensor)"
   ]
  },
  {
   "cell_type": "markdown",
   "id": "c73c73b3-4cd6-4b2e-87ff-8b64033f8424",
   "metadata": {},
   "source": [
    "#### Joining tensors\n",
    "+ Can use `torch.cat` to concatenate a sequence of tensors along a given dimension\n",
    "+ Can also use `torch.stack`, another joining operation"
   ]
  },
  {
   "cell_type": "code",
   "execution_count": 31,
   "id": "d693768b-5bbf-4c09-bd92-05c1cab93414",
   "metadata": {},
   "outputs": [
    {
     "name": "stdout",
     "output_type": "stream",
     "text": [
      "tensor([[1., 0., 1., 1., 1., 0., 1., 1., 1., 0., 1., 1.],\n",
      "        [1., 0., 1., 1., 1., 0., 1., 1., 1., 0., 1., 1.],\n",
      "        [1., 0., 1., 1., 1., 0., 1., 1., 1., 0., 1., 1.],\n",
      "        [1., 0., 1., 1., 1., 0., 1., 1., 1., 0., 1., 1.]])\n"
     ]
    }
   ],
   "source": [
    "t1 = torch.cat([tensor, tensor, tensor],dim=1)\n",
    "print(t1)"
   ]
  },
  {
   "cell_type": "markdown",
   "id": "18eb3daf-d932-481f-ae00-f77755b95c4f",
   "metadata": {},
   "source": [
    "#### Arithmetic operations"
   ]
  },
  {
   "cell_type": "code",
   "execution_count": 34,
   "id": "2b0fcfc0-0b38-4088-81d2-8d805d4527b8",
   "metadata": {},
   "outputs": [
    {
     "data": {
      "text/plain": [
       "tensor([[1., 0., 1., 1.],\n",
       "        [1., 0., 1., 1.],\n",
       "        [1., 0., 1., 1.],\n",
       "        [1., 0., 1., 1.]])"
      ]
     },
     "execution_count": 34,
     "metadata": {},
     "output_type": "execute_result"
    }
   ],
   "source": [
    "## This computes the matrix multiplication between 2 tensors\n",
    "# ``tensor.T`` returns the transpose of a tensor\n",
    "y1 = tensor @ tensor.T\n",
    "y2 = tensor.matmul(tensor.T)\n",
    "\n",
    "y3 = torch.rand_like(y1)\n",
    "torch.matmul(tensor, tensor.T, out=y3)\n",
    "\n",
    "## This computes the element-wise product\n",
    "z1 = tensor * tensor\n",
    "z2 = tensor.mul(tensor)\n",
    "\n",
    "z3 = torch.rand_like(tensor)\n",
    "torch.mul(tensor, tensor, out=z3)"
   ]
  },
  {
   "cell_type": "markdown",
   "id": "c05fc608-8b9e-4999-986f-66ec2593a283",
   "metadata": {},
   "source": [
    "#### Single-element tensors\n",
    "+ can convert a one-element tensor to a Python numerical value using `item()`"
   ]
  },
  {
   "cell_type": "code",
   "execution_count": 35,
   "id": "f79f3b51-be63-46d5-b7ad-b9804a6490a2",
   "metadata": {},
   "outputs": [
    {
     "name": "stdout",
     "output_type": "stream",
     "text": [
      "12.0 <class 'float'>\n"
     ]
    }
   ],
   "source": [
    "agg = tensor.sum()\n",
    "agg_item = agg.item()\n",
    "print(agg_item, type(agg_item))"
   ]
  },
  {
   "cell_type": "markdown",
   "id": "8a88ca1a-d202-4c26-a20f-df69a56eb5c9",
   "metadata": {},
   "source": [
    "#### In-place operations\n",
    "+ operations that store the result into the operand are -inplace; denoted by a `_ suffix`"
   ]
  },
  {
   "cell_type": "code",
   "execution_count": 36,
   "id": "d2e25946-7bd7-40d9-9a1b-062141d2253f",
   "metadata": {},
   "outputs": [
    {
     "name": "stdout",
     "output_type": "stream",
     "text": [
      "tensor([[1., 0., 1., 1.],\n",
      "        [1., 0., 1., 1.],\n",
      "        [1., 0., 1., 1.],\n",
      "        [1., 0., 1., 1.]]) \n",
      "\n",
      "tensor([[6., 5., 6., 6.],\n",
      "        [6., 5., 6., 6.],\n",
      "        [6., 5., 6., 6.],\n",
      "        [6., 5., 6., 6.]])\n"
     ]
    }
   ],
   "source": [
    "print(f\"{tensor} \\n\")\n",
    "tensor.add_(5)\n",
    "print(tensor)"
   ]
  },
  {
   "cell_type": "markdown",
   "id": "35dd51b2-6cad-48e1-bea9-acad7b8ad5a1",
   "metadata": {},
   "source": [
    "---"
   ]
  },
  {
   "cell_type": "markdown",
   "id": "b29aeff6-c5df-4ea8-8d01-19c442272d97",
   "metadata": {},
   "source": [
    "## Bridge with NumPy\n",
    "+ Tensors on the CPU and NumPy arrays can share their underlying memory locations, and changing one will change the other"
   ]
  },
  {
   "cell_type": "code",
   "execution_count": 38,
   "id": "9084e59a-624b-425a-86ea-e067ef1c1ce8",
   "metadata": {},
   "outputs": [
    {
     "name": "stdout",
     "output_type": "stream",
     "text": [
      "t: tensor([1., 1., 1., 1., 1.])\n",
      "n: [1. 1. 1. 1. 1.]\n"
     ]
    }
   ],
   "source": [
    "t = torch.ones(5)\n",
    "print(f\"t: {t}\")\n",
    "n = t.numpy()\n",
    "print(f\"n: {n}\")"
   ]
  },
  {
   "cell_type": "code",
   "execution_count": 40,
   "id": "73f2a1f1-f8e1-4d5a-bfa8-0f74da1b7989",
   "metadata": {},
   "outputs": [
    {
     "name": "stdout",
     "output_type": "stream",
     "text": [
      "t: tensor([2., 2., 2., 2., 2.])\n",
      "n: [2. 2. 2. 2. 2.]\n"
     ]
    }
   ],
   "source": [
    "# a change in the tensor reflects in the array\n",
    "t.add_(1)\n",
    "print(f\"t: {t}\")\n",
    "print(f\"n: {n}\")"
   ]
  },
  {
   "cell_type": "markdown",
   "id": "b90342fd-2d0c-4503-8fb2-e3d688e397cc",
   "metadata": {},
   "source": [
    "#### NumPy Array to Tensor"
   ]
  },
  {
   "cell_type": "code",
   "execution_count": 41,
   "id": "85003bcc-79e8-4dd1-acdd-177c8e4bf17b",
   "metadata": {},
   "outputs": [],
   "source": [
    "n = np.ones(5)\n",
    "t = torch.from_numpy(n)"
   ]
  },
  {
   "cell_type": "code",
   "execution_count": 43,
   "id": "31381869-e861-4d1c-8287-b320e78c0b03",
   "metadata": {},
   "outputs": [
    {
     "name": "stdout",
     "output_type": "stream",
     "text": [
      "t: tensor([2., 2., 2., 2., 2.], dtype=torch.float64)\n",
      "n: [2. 2. 2. 2. 2.]\n"
     ]
    }
   ],
   "source": [
    "# changes in the NumPy array reflects in the tensor\n",
    "np.add(n,1, out=n)\n",
    "print(f\"t: {t}\")\n",
    "print(f\"n: {n}\")"
   ]
  },
  {
   "cell_type": "code",
   "execution_count": null,
   "id": "c5b38c92-cadb-471e-9494-3e87fb67c3af",
   "metadata": {},
   "outputs": [],
   "source": []
  }
 ],
 "metadata": {
  "kernelspec": {
   "display_name": "Python 3 (ipykernel)",
   "language": "python",
   "name": "python3"
  },
  "language_info": {
   "codemirror_mode": {
    "name": "ipython",
    "version": 3
   },
   "file_extension": ".py",
   "mimetype": "text/x-python",
   "name": "python",
   "nbconvert_exporter": "python",
   "pygments_lexer": "ipython3",
   "version": "3.10.8"
  }
 },
 "nbformat": 4,
 "nbformat_minor": 5
}
