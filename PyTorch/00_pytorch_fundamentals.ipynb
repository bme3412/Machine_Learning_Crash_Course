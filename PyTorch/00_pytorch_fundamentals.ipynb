{
 "cells": [
  {
   "cell_type": "code",
   "execution_count": 1,
   "id": "66387ffa-5729-48c6-a9f7-63d47f2035d4",
   "metadata": {},
   "outputs": [
    {
     "name": "stdout",
     "output_type": "stream",
     "text": [
      "2.1.2\n"
     ]
    }
   ],
   "source": [
    "import torch\n",
    "import pandas as pd\n",
    "import numpy as np\n",
    "import matplotlib.pyplot as plt\n",
    "print(torch.__version__)"
   ]
  },
  {
   "cell_type": "markdown",
   "id": "83633ad1-5a06-4e4b-a9a4-6231b4bba4e3",
   "metadata": {},
   "source": [
    "## Introduction to tensors\n",
    "\n",
    "### Creating tensors\n",
    "PyTorch tensors are ceating usng `torch.Tensor()`"
   ]
  },
  {
   "cell_type": "code",
   "execution_count": 2,
   "id": "47157467-5813-49c3-a99c-fc3eed73eb84",
   "metadata": {},
   "outputs": [
    {
     "data": {
      "text/plain": [
       "tensor(7)"
      ]
     },
     "execution_count": 2,
     "metadata": {},
     "output_type": "execute_result"
    }
   ],
   "source": [
    "# scalar\n",
    "scalar = torch.tensor(7)\n",
    "scalar"
   ]
  },
  {
   "cell_type": "code",
   "execution_count": 4,
   "id": "867e5136-8f95-46a1-8b1c-58dc80dc7e46",
   "metadata": {},
   "outputs": [
    {
     "data": {
      "text/plain": [
       "0"
      ]
     },
     "execution_count": 4,
     "metadata": {},
     "output_type": "execute_result"
    }
   ],
   "source": [
    "scalar.ndim"
   ]
  },
  {
   "cell_type": "code",
   "execution_count": 6,
   "id": "526e2d6f-2329-4d98-abcd-54ca1c4b655d",
   "metadata": {},
   "outputs": [
    {
     "data": {
      "text/plain": [
       "7"
      ]
     },
     "execution_count": 6,
     "metadata": {},
     "output_type": "execute_result"
    }
   ],
   "source": [
    "# get tensor back as Python int\n",
    "scalar.item()"
   ]
  },
  {
   "cell_type": "code",
   "execution_count": 7,
   "id": "99db6e26-eb55-4c24-aa18-d5136000b971",
   "metadata": {},
   "outputs": [
    {
     "data": {
      "text/plain": [
       "tensor([7, 7])"
      ]
     },
     "execution_count": 7,
     "metadata": {},
     "output_type": "execute_result"
    }
   ],
   "source": [
    "# vector\n",
    "vector = torch.tensor([7,7])\n",
    "vector"
   ]
  },
  {
   "cell_type": "code",
   "execution_count": 8,
   "id": "4d414c1e-77c7-4c43-8a2f-fb073136bf6c",
   "metadata": {},
   "outputs": [
    {
     "data": {
      "text/plain": [
       "1"
      ]
     },
     "execution_count": 8,
     "metadata": {},
     "output_type": "execute_result"
    }
   ],
   "source": [
    "vector.ndim"
   ]
  },
  {
   "cell_type": "code",
   "execution_count": 9,
   "id": "0a2107d8-91a8-4732-bf9e-946b82100978",
   "metadata": {},
   "outputs": [
    {
     "data": {
      "text/plain": [
       "torch.Size([2])"
      ]
     },
     "execution_count": 9,
     "metadata": {},
     "output_type": "execute_result"
    }
   ],
   "source": [
    "vector.shape"
   ]
  },
  {
   "cell_type": "code",
   "execution_count": 12,
   "id": "6d64cfeb-597e-4b04-998c-fae45d7b335f",
   "metadata": {},
   "outputs": [
    {
     "data": {
      "text/plain": [
       "tensor([[ 7,  8],\n",
       "        [ 9, 10]])"
      ]
     },
     "execution_count": 12,
     "metadata": {},
     "output_type": "execute_result"
    }
   ],
   "source": [
    "# MATRIX\n",
    "MATRIX = torch.tensor([[7,8],[9,10]])\n",
    "MATRIX"
   ]
  },
  {
   "cell_type": "code",
   "execution_count": 13,
   "id": "9ea60040-e743-4d89-b4d1-8483ae000b06",
   "metadata": {},
   "outputs": [
    {
     "data": {
      "text/plain": [
       "2"
      ]
     },
     "execution_count": 13,
     "metadata": {},
     "output_type": "execute_result"
    }
   ],
   "source": [
    "MATRIX.ndim"
   ]
  },
  {
   "cell_type": "code",
   "execution_count": 14,
   "id": "ce07a6c9-c4ea-4a50-bead-adc8a0a30593",
   "metadata": {},
   "outputs": [
    {
     "data": {
      "text/plain": [
       "torch.Size([2, 2])"
      ]
     },
     "execution_count": 14,
     "metadata": {},
     "output_type": "execute_result"
    }
   ],
   "source": [
    "MATRIX.shape"
   ]
  },
  {
   "cell_type": "code",
   "execution_count": 15,
   "id": "5ac97def-a3ab-4c1a-a4c4-68d923013347",
   "metadata": {},
   "outputs": [
    {
     "data": {
      "text/plain": [
       "(tensor([7, 8]), tensor([ 9, 10]))"
      ]
     },
     "execution_count": 15,
     "metadata": {},
     "output_type": "execute_result"
    }
   ],
   "source": [
    "MATRIX[0], MATRIX[1]"
   ]
  },
  {
   "cell_type": "code",
   "execution_count": 17,
   "id": "f8c14c12-d15d-48c2-bd48-0e638713cd6a",
   "metadata": {},
   "outputs": [
    {
     "data": {
      "text/plain": [
       "tensor([[[1, 2, 3],\n",
       "         [3, 6, 9],\n",
       "         [2, 4, 5]]])"
      ]
     },
     "execution_count": 17,
     "metadata": {},
     "output_type": "execute_result"
    }
   ],
   "source": [
    "## TENSOR\n",
    "TENSOR = torch.tensor([[[1,2,3],\n",
    "                       [3,6,9],\n",
    "                       [2,4,5]]])\n",
    "TENSOR"
   ]
  },
  {
   "cell_type": "code",
   "execution_count": 18,
   "id": "fd8ffca5-852a-4d96-96fc-51fb82756b9f",
   "metadata": {},
   "outputs": [
    {
     "data": {
      "text/plain": [
       "3"
      ]
     },
     "execution_count": 18,
     "metadata": {},
     "output_type": "execute_result"
    }
   ],
   "source": [
    "TENSOR.ndim"
   ]
  },
  {
   "cell_type": "code",
   "execution_count": 19,
   "id": "564058e4-aa6b-474d-9673-309389845a98",
   "metadata": {},
   "outputs": [
    {
     "data": {
      "text/plain": [
       "torch.Size([1, 3, 3])"
      ]
     },
     "execution_count": 19,
     "metadata": {},
     "output_type": "execute_result"
    }
   ],
   "source": [
    "TENSOR.shape"
   ]
  },
  {
   "cell_type": "code",
   "execution_count": 20,
   "id": "3ac6cd63-3ca7-4f81-b6cf-01be194e8e89",
   "metadata": {},
   "outputs": [
    {
     "data": {
      "text/plain": [
       "tensor([[1, 2, 3],\n",
       "        [3, 6, 9],\n",
       "        [2, 4, 5]])"
      ]
     },
     "execution_count": 20,
     "metadata": {},
     "output_type": "execute_result"
    }
   ],
   "source": [
    "TENSOR[0]"
   ]
  },
  {
   "cell_type": "code",
   "execution_count": 22,
   "id": "f0d2f3a4-88bf-47fb-af1f-0a9c66e225bb",
   "metadata": {},
   "outputs": [
    {
     "data": {
      "text/plain": [
       "tensor([3, 6, 9])"
      ]
     },
     "execution_count": 22,
     "metadata": {},
     "output_type": "execute_result"
    }
   ],
   "source": [
    "TENSOR[0][0]"
   ]
  },
  {
   "cell_type": "code",
   "execution_count": 26,
   "id": "2f7ce985-c956-4832-b32e-c3151ddd2621",
   "metadata": {},
   "outputs": [
    {
     "data": {
      "text/plain": [
       "3"
      ]
     },
     "execution_count": 26,
     "metadata": {},
     "output_type": "execute_result"
    }
   ],
   "source": [
    "## NEW TENSOR\n",
    "TENSOR_NEW = torch.tensor([[[34,5,20],[9,0,7],[33,34,6]]])\n",
    "TENSOR_NEW.ndim"
   ]
  },
  {
   "cell_type": "code",
   "execution_count": 27,
   "id": "8c570517-c4e0-46ac-b02f-d1e75dda386c",
   "metadata": {},
   "outputs": [
    {
     "data": {
      "text/plain": [
       "torch.Size([1, 3, 3])"
      ]
     },
     "execution_count": 27,
     "metadata": {},
     "output_type": "execute_result"
    }
   ],
   "source": [
    "TENSOR_NEW.shape"
   ]
  },
  {
   "cell_type": "code",
   "execution_count": 28,
   "id": "96e9bcaa-156a-4d3e-88bf-ebaddf3b8751",
   "metadata": {},
   "outputs": [
    {
     "data": {
      "text/plain": [
       "tensor([34,  5, 20])"
      ]
     },
     "execution_count": 28,
     "metadata": {},
     "output_type": "execute_result"
    }
   ],
   "source": [
    "TENSOR_NEW[0][0]"
   ]
  },
  {
   "cell_type": "markdown",
   "id": "066f07ae-26a8-4137-8961-2387f92e376e",
   "metadata": {},
   "source": [
    "### Random Tensors\n",
    "\n",
    "Why random tensors?\n",
    "Random tensors are imporant because the way many neural networks learn is they start with tensors full of rnadom #s and then ajudst to better represent the data.\n",
    "\n",
    "`Start with random numbers -> look at data -> update random #s -> look at data -> update`"
   ]
  },
  {
   "cell_type": "code",
   "execution_count": 40,
   "id": "5f98129a-42ef-4417-bd3d-942a2417236e",
   "metadata": {},
   "outputs": [
    {
     "data": {
      "text/plain": [
       "tensor([[0.5055, 0.1656, 0.0925, 0.0538],\n",
       "        [0.8701, 0.3482, 0.6660, 0.9894],\n",
       "        [0.7582, 0.2347, 0.2319, 0.6715],\n",
       "        [0.4206, 0.0397, 0.3502, 0.4917],\n",
       "        [0.2794, 0.8835, 0.3043, 0.5632]])"
      ]
     },
     "execution_count": 40,
     "metadata": {},
     "output_type": "execute_result"
    }
   ],
   "source": [
    "## create a random tensor of size/shahpe (3,4)\n",
    "random_tensor = torch.rand(5,4)\n",
    "random_tensor"
   ]
  },
  {
   "cell_type": "code",
   "execution_count": 41,
   "id": "b088574b-91a8-48ef-b757-0d5aa68680c6",
   "metadata": {},
   "outputs": [
    {
     "data": {
      "text/plain": [
       "tensor([[0.5055, 0.1656, 0.0925, 0.0538],\n",
       "        [0.8701, 0.3482, 0.6660, 0.9894],\n",
       "        [0.7582, 0.2347, 0.2319, 0.6715],\n",
       "        [0.4206, 0.0397, 0.3502, 0.4917],\n",
       "        [0.2794, 0.8835, 0.3043, 0.5632]])"
      ]
     },
     "execution_count": 41,
     "metadata": {},
     "output_type": "execute_result"
    }
   ],
   "source": [
    "random_tensor"
   ]
  },
  {
   "cell_type": "code",
   "execution_count": 34,
   "id": "11ad5f2e-ab89-482b-8c44-453b01c2ceaa",
   "metadata": {},
   "outputs": [
    {
     "data": {
      "text/plain": [
       "2"
      ]
     },
     "execution_count": 34,
     "metadata": {},
     "output_type": "execute_result"
    }
   ],
   "source": [
    "random_tensor = torch.rand(5,4)\n",
    "random_tensor.ndim"
   ]
  },
  {
   "cell_type": "code",
   "execution_count": 35,
   "id": "22e59310-c962-46bf-ba49-dcbaf7e7536f",
   "metadata": {},
   "outputs": [
    {
     "data": {
      "text/plain": [
       "(torch.Size([224, 224, 3]), 3)"
      ]
     },
     "execution_count": 35,
     "metadata": {},
     "output_type": "execute_result"
    }
   ],
   "source": [
    "# Create a random tensor with similar shape to an image tensor\n",
    "random_image_size_tensor = torch.rand(size=(224,224,3)) # height, width, color channels (RBG)\n",
    "random_image_size_tensor.shape, random_image_size_tensor.ndim"
   ]
  },
  {
   "cell_type": "code",
   "execution_count": 39,
   "id": "f8ef0c62-6c41-410f-a503-6858ef0b5988",
   "metadata": {},
   "outputs": [
    {
     "data": {
      "text/plain": [
       "(3, torch.Size([5, 10, 10]))"
      ]
     },
     "execution_count": 39,
     "metadata": {},
     "output_type": "execute_result"
    }
   ],
   "source": [
    "random_tensor = torch.rand(5,10,10)\n",
    "random_tensor.ndim, random_tensor.shape"
   ]
  },
  {
   "cell_type": "markdown",
   "id": "8639677a-34bc-4e98-9841-88ccbb57d2f3",
   "metadata": {},
   "source": [
    "### Zeroes and ones"
   ]
  },
  {
   "cell_type": "code",
   "execution_count": 42,
   "id": "122e892e-aff4-42c8-8cb5-5a20f45d1cb0",
   "metadata": {},
   "outputs": [
    {
     "data": {
      "text/plain": [
       "tensor([[0., 0., 0., 0.],\n",
       "        [0., 0., 0., 0.],\n",
       "        [0., 0., 0., 0.]])"
      ]
     },
     "execution_count": 42,
     "metadata": {},
     "output_type": "execute_result"
    }
   ],
   "source": [
    "# create a tensor of all zeoros\n",
    "zeros = torch.zeros(size=(3,4))\n",
    "zeros"
   ]
  },
  {
   "cell_type": "code",
   "execution_count": 45,
   "id": "c1e537cc-51f4-4c06-8856-de4080c5f58c",
   "metadata": {},
   "outputs": [
    {
     "data": {
      "text/plain": [
       "tensor([[1., 1., 1., 1.],\n",
       "        [1., 1., 1., 1.],\n",
       "        [1., 1., 1., 1.]])"
      ]
     },
     "execution_count": 45,
     "metadata": {},
     "output_type": "execute_result"
    }
   ],
   "source": [
    "# create a tensor of all ones\n",
    "ones = torch.ones(size=(3,4))\n",
    "ones"
   ]
  },
  {
   "cell_type": "code",
   "execution_count": 46,
   "id": "41b0ac3e-35c5-46b1-98d3-a9ac4f795473",
   "metadata": {},
   "outputs": [
    {
     "data": {
      "text/plain": [
       "torch.float32"
      ]
     },
     "execution_count": 46,
     "metadata": {},
     "output_type": "execute_result"
    }
   ],
   "source": [
    "ones.dtype"
   ]
  },
  {
   "cell_type": "code",
   "execution_count": 47,
   "id": "28efd5e8-78e4-4768-b98c-ef05e6688cf8",
   "metadata": {},
   "outputs": [
    {
     "data": {
      "text/plain": [
       "torch.float32"
      ]
     },
     "execution_count": 47,
     "metadata": {},
     "output_type": "execute_result"
    }
   ],
   "source": [
    "random_tensor.dtype"
   ]
  },
  {
   "cell_type": "markdown",
   "id": "d86af7ba-53e7-49ad-a8bc-85cc47c2d79d",
   "metadata": {},
   "source": [
    "### Create a range of tensors and tensors-like"
   ]
  },
  {
   "cell_type": "code",
   "execution_count": 55,
   "id": "3d0bce06-c871-4c95-b7d6-ddaca2e40438",
   "metadata": {},
   "outputs": [
    {
     "data": {
      "text/plain": [
       "tensor([ 1,  2,  3,  4,  5,  6,  7,  8,  9, 10])"
      ]
     },
     "execution_count": 55,
     "metadata": {},
     "output_type": "execute_result"
    }
   ],
   "source": [
    "# use torch.arange()\n",
    "# torch.range deprecated\n",
    "one_to_ten=torch.arange(start=1,end=11,step=1)\n",
    "one_to_ten"
   ]
  },
  {
   "cell_type": "code",
   "execution_count": 56,
   "id": "5e567fcb-648f-462b-a2a3-14202cfe114c",
   "metadata": {},
   "outputs": [
    {
     "data": {
      "text/plain": [
       "tensor([ 1,  2,  3,  4,  5,  6,  7,  8,  9, 10])"
      ]
     },
     "execution_count": 56,
     "metadata": {},
     "output_type": "execute_result"
    }
   ],
   "source": [
    "## Creating tensors like\n",
    "one_to_ten"
   ]
  },
  {
   "cell_type": "code",
   "execution_count": 57,
   "id": "0b6b68c8-f1d4-4b49-801e-08247a7fc97b",
   "metadata": {},
   "outputs": [],
   "source": [
    "ten_zeros = torch.zeros_like(input=one_to_ten)"
   ]
  },
  {
   "cell_type": "code",
   "execution_count": 58,
   "id": "0d67e627-ca3b-4223-be05-96497b3554a2",
   "metadata": {},
   "outputs": [
    {
     "data": {
      "text/plain": [
       "tensor([0, 0, 0, 0, 0, 0, 0, 0, 0, 0])"
      ]
     },
     "execution_count": 58,
     "metadata": {},
     "output_type": "execute_result"
    }
   ],
   "source": [
    "ten_zeros"
   ]
  },
  {
   "cell_type": "markdown",
   "id": "61af2a22-2f20-408d-9401-4e2ba4ac4464",
   "metadata": {},
   "source": [
    "### Tensor datatypes\n",
    "\n",
    "**Note** Tensor datatypes is one of the 3 big building blocks/potential sources of errors with PyTorch and deep learning;\n",
    "1. Need the right datatype to perform certain operations\n",
    "2. Need the right shape of the data\n",
    "3. Tensor needs to be on the appropriate/right device"
   ]
  },
  {
   "cell_type": "code",
   "execution_count": 59,
   "id": "fe1e1507-a6a8-44e0-a287-53ff63b4587e",
   "metadata": {},
   "outputs": [
    {
     "data": {
      "text/plain": [
       "tensor([3., 6., 9.])"
      ]
     },
     "execution_count": 59,
     "metadata": {},
     "output_type": "execute_result"
    }
   ],
   "source": [
    "# Float 32 tensor\n",
    "float_32_tensor = torch.tensor([3.0, 6.0, 9.0], dtype=None)\n",
    "float_32_tensor"
   ]
  },
  {
   "cell_type": "code",
   "execution_count": 60,
   "id": "dc26d5f6-51cb-4a88-8535-c3d084bc1e99",
   "metadata": {},
   "outputs": [
    {
     "data": {
      "text/plain": [
       "torch.float32"
      ]
     },
     "execution_count": 60,
     "metadata": {},
     "output_type": "execute_result"
    }
   ],
   "source": [
    "# default data type to come out as float 32\n",
    "float_32_tensor.dtype"
   ]
  },
  {
   "cell_type": "code",
   "execution_count": 62,
   "id": "1eaf460a-ebf1-4ec1-b303-26b9f30c3b72",
   "metadata": {},
   "outputs": [
    {
     "data": {
      "text/plain": [
       "tensor([3., 6., 9.], dtype=torch.float16)"
      ]
     },
     "execution_count": 62,
     "metadata": {},
     "output_type": "execute_result"
    }
   ],
   "source": [
    "# Float 32 tensor\n",
    "float_16_tensor = torch.tensor([3.0, 6.0, 9.0], dtype=torch.float16)\n",
    "float_16_tensor"
   ]
  },
  {
   "cell_type": "code",
   "execution_count": 67,
   "id": "9251eb28-abb4-471e-bbcf-6d1810d96842",
   "metadata": {},
   "outputs": [],
   "source": [
    "float_32_tensor = torch.tensor([3.0, 6.0, 9.0],\n",
    "                               dtype=None, # what type of unit the data is - 16 bit, 32 bit vs 64 bit\n",
    "                               device=None, # what device the tensor is on; ex: 'cuda', etc\n",
    "                               requires_grad=False) # if want PyTorch to track the gradients of a tensor"
   ]
  },
  {
   "cell_type": "code",
   "execution_count": 68,
   "id": "d12b9423-9394-4c29-95bc-531b2fac067c",
   "metadata": {},
   "outputs": [
    {
     "data": {
      "text/plain": [
       "torch.float32"
      ]
     },
     "execution_count": 68,
     "metadata": {},
     "output_type": "execute_result"
    }
   ],
   "source": [
    "float_32_tensor.dtype"
   ]
  },
  {
   "cell_type": "code",
   "execution_count": 70,
   "id": "9f71c1ba-7aa9-4c3a-8e15-0f45022ba866",
   "metadata": {},
   "outputs": [
    {
     "data": {
      "text/plain": [
       "tensor([3., 6., 9.], dtype=torch.float16)"
      ]
     },
     "execution_count": 70,
     "metadata": {},
     "output_type": "execute_result"
    }
   ],
   "source": [
    "# converting from float32 to float16\n",
    "float_16_tensor = float_32_tensor.type(torch.float16)\n",
    "float_16_tensor"
   ]
  },
  {
   "cell_type": "code",
   "execution_count": 71,
   "id": "93776f4a-2b64-41da-a435-6e3798cdef9e",
   "metadata": {},
   "outputs": [
    {
     "data": {
      "text/plain": [
       "tensor([ 9., 36., 81.])"
      ]
     },
     "execution_count": 71,
     "metadata": {},
     "output_type": "execute_result"
    }
   ],
   "source": [
    "float_16_tensor * float_32_tensor"
   ]
  },
  {
   "cell_type": "code",
   "execution_count": 72,
   "id": "a194c48b-1d47-4739-81bf-bb35c19a30fe",
   "metadata": {},
   "outputs": [
    {
     "data": {
      "text/plain": [
       "tensor([3, 6, 9], dtype=torch.int32)"
      ]
     },
     "execution_count": 72,
     "metadata": {},
     "output_type": "execute_result"
    }
   ],
   "source": [
    "int_32_tensor = torch.tensor([3,6,9], dtype=torch.int32)\n",
    "int_32_tensor"
   ]
  },
  {
   "cell_type": "code",
   "execution_count": 73,
   "id": "6516b657-df31-4f2f-a51f-52b541fa15fc",
   "metadata": {},
   "outputs": [
    {
     "data": {
      "text/plain": [
       "tensor([ 9., 36., 81.])"
      ]
     },
     "execution_count": 73,
     "metadata": {},
     "output_type": "execute_result"
    }
   ],
   "source": [
    "float_32_tensor * int_32_tensor"
   ]
  },
  {
   "cell_type": "markdown",
   "id": "b37a3aab-8b63-4943-9a61-c441fb7104e6",
   "metadata": {},
   "source": [
    "### Getting Information from Tensors - tensor Attributes\n",
    "1. Tensor datatype - can use `tensor.dtype`\n",
    "2. Tensor shape - can use `tensor.shape`\n",
    "3. Tensor device - can use `tensor.device`"
   ]
  },
  {
   "cell_type": "code",
   "execution_count": 74,
   "id": "0f67a93d-fa0a-4964-897b-0a0bae781811",
   "metadata": {},
   "outputs": [
    {
     "data": {
      "text/plain": [
       "tensor([[0.9790, 0.0458, 0.3106, 0.7965, 0.6215, 0.8551, 0.2990],\n",
       "        [0.3251, 0.4151, 0.0164, 0.5517, 0.3654, 0.7158, 0.0907],\n",
       "        [0.0379, 0.3858, 0.1312, 0.6793, 0.4716, 0.2112, 0.3022],\n",
       "        [0.0138, 0.6929, 0.3943, 0.5343, 0.7413, 0.1514, 0.0130],\n",
       "        [0.9926, 0.9625, 0.5674, 0.9766, 0.9008, 0.1216, 0.9009],\n",
       "        [0.3191, 0.8245, 0.7830, 0.1163, 0.7014, 0.0138, 0.8514],\n",
       "        [0.6100, 0.5052, 0.7938, 0.4392, 0.9769, 0.8048, 0.4048],\n",
       "        [0.2374, 0.4357, 0.6805, 0.2195, 0.1414, 0.1892, 0.5889],\n",
       "        [0.7232, 0.6959, 0.5188, 0.2207, 0.3773, 0.0745, 0.8779],\n",
       "        [0.0570, 0.8915, 0.7974, 0.6948, 0.2931, 0.4159, 0.4336]])"
      ]
     },
     "execution_count": 74,
     "metadata": {},
     "output_type": "execute_result"
    }
   ],
   "source": [
    "# create a tesnor\n",
    "some_tensor = torch.rand(10,7)\n",
    "some_tensor"
   ]
  },
  {
   "cell_type": "code",
   "execution_count": 76,
   "id": "f8fe3ba2-73f8-4be4-aff3-16bc94e586e4",
   "metadata": {},
   "outputs": [
    {
     "name": "stdout",
     "output_type": "stream",
     "text": [
      "tensor([[0.9790, 0.0458, 0.3106, 0.7965, 0.6215, 0.8551, 0.2990],\n",
      "        [0.3251, 0.4151, 0.0164, 0.5517, 0.3654, 0.7158, 0.0907],\n",
      "        [0.0379, 0.3858, 0.1312, 0.6793, 0.4716, 0.2112, 0.3022],\n",
      "        [0.0138, 0.6929, 0.3943, 0.5343, 0.7413, 0.1514, 0.0130],\n",
      "        [0.9926, 0.9625, 0.5674, 0.9766, 0.9008, 0.1216, 0.9009],\n",
      "        [0.3191, 0.8245, 0.7830, 0.1163, 0.7014, 0.0138, 0.8514],\n",
      "        [0.6100, 0.5052, 0.7938, 0.4392, 0.9769, 0.8048, 0.4048],\n",
      "        [0.2374, 0.4357, 0.6805, 0.2195, 0.1414, 0.1892, 0.5889],\n",
      "        [0.7232, 0.6959, 0.5188, 0.2207, 0.3773, 0.0745, 0.8779],\n",
      "        [0.0570, 0.8915, 0.7974, 0.6948, 0.2931, 0.4159, 0.4336]])\n",
      "Datatype of tensor: torch.float32\n",
      "Shape of tensor: torch.Size([10, 7])\n",
      "Tensor is on device: cpu\n"
     ]
    }
   ],
   "source": [
    "# find out details about some tensor\n",
    "print(some_tensor)\n",
    "print(f\"Datatype of tensor: {some_tensor.dtype}\")\n",
    "print(f\"Shape of tensor: {some_tensor.shape}\")\n",
    "print(f\"Tensor is on device: {some_tensor.device}\")"
   ]
  },
  {
   "cell_type": "markdown",
   "id": "25aff8c7-8acb-424e-8797-4474fc608a48",
   "metadata": {},
   "source": [
    "### Manipulating tensors (Tensor Operations)\n",
    "\n",
    "Tensor operations include:\n",
    "* Addition\n",
    "* Subtraction\n",
    "* Multiplication (element-wise)\n",
    "* Division\n",
    "* Matrix multiplication"
   ]
  },
  {
   "cell_type": "code",
   "execution_count": 77,
   "id": "f9a6d26e-0239-4f51-a4a1-1e75cdc43626",
   "metadata": {},
   "outputs": [
    {
     "data": {
      "text/plain": [
       "tensor([11, 12, 13])"
      ]
     },
     "execution_count": 77,
     "metadata": {},
     "output_type": "execute_result"
    }
   ],
   "source": [
    "# create a tensor and add 10 to it\n",
    "tensor = torch.tensor([1,2,3])\n",
    "tensor +10"
   ]
  },
  {
   "cell_type": "code",
   "execution_count": 78,
   "id": "ac28c954-855a-42ad-8abe-1d7ff4088c06",
   "metadata": {},
   "outputs": [
    {
     "data": {
      "text/plain": [
       "tensor([10, 20, 30])"
      ]
     },
     "execution_count": 78,
     "metadata": {},
     "output_type": "execute_result"
    }
   ],
   "source": [
    "## multiply tensor by 10\n",
    "tensor * 10"
   ]
  },
  {
   "cell_type": "code",
   "execution_count": 79,
   "id": "7eb90349-0056-4ded-8de7-73cca04a361a",
   "metadata": {},
   "outputs": [
    {
     "data": {
      "text/plain": [
       "tensor([-9, -8, -7])"
      ]
     },
     "execution_count": 79,
     "metadata": {},
     "output_type": "execute_result"
    }
   ],
   "source": [
    "# subtract 10\n",
    "tensor - 10"
   ]
  },
  {
   "cell_type": "code",
   "execution_count": 80,
   "id": "33fb6faa-6061-4431-ad7c-bf5e5b35c8fc",
   "metadata": {},
   "outputs": [
    {
     "data": {
      "text/plain": [
       "tensor([10, 20, 30])"
      ]
     },
     "execution_count": 80,
     "metadata": {},
     "output_type": "execute_result"
    }
   ],
   "source": [
    "# try out PyTorch in-built functions\n",
    "torch.mul(tensor, 10)"
   ]
  },
  {
   "cell_type": "markdown",
   "id": "2cc0aa2d-cd54-4b5d-89f8-586ce4209d05",
   "metadata": {},
   "source": [
    "### Matrix Multiplication\n",
    "\n",
    "Two main ways of performing multiplication in neural nets and deep learning\n",
    "\n",
    "1. Element-wise multiplication\n",
    "2.  Matrix multiplication (aka dot product)"
   ]
  },
  {
   "cell_type": "code",
   "execution_count": 83,
   "id": "498ff213-21cb-4ffc-8d53-f0bb0026a75b",
   "metadata": {},
   "outputs": [
    {
     "name": "stdout",
     "output_type": "stream",
     "text": [
      "tensor([1, 2, 3]) * tensor([1, 2, 3])\n",
      "Equals: tensor([1, 4, 9])\n"
     ]
    }
   ],
   "source": [
    "## Element-wise multiplication\n",
    "print(tensor, \"*\", tensor)\n",
    "print(f\"Equals: {tensor * tensor}\")"
   ]
  },
  {
   "cell_type": "code",
   "execution_count": 90,
   "id": "443c0672-0cec-482c-985c-13bbe2db9f5e",
   "metadata": {},
   "outputs": [
    {
     "data": {
      "text/plain": [
       "tensor(14)"
      ]
     },
     "execution_count": 90,
     "metadata": {},
     "output_type": "execute_result"
    }
   ],
   "source": [
    "## Matrix multiplication\n",
    "\n",
    "torch.matmul(tensor, tensor)"
   ]
  },
  {
   "cell_type": "code",
   "execution_count": 86,
   "id": "f274b99f-5611-4a6b-bd82-16e1bc03bec3",
   "metadata": {},
   "outputs": [
    {
     "data": {
      "text/plain": [
       "14"
      ]
     },
     "execution_count": 86,
     "metadata": {},
     "output_type": "execute_result"
    }
   ],
   "source": [
    "# Matrix multiplication by hand\n",
    "(1*1) + (2*2) + (3*3)"
   ]
  },
  {
   "cell_type": "code",
   "execution_count": 91,
   "id": "b587a93b-221a-456b-a9e9-bbe68bf455e8",
   "metadata": {},
   "outputs": [
    {
     "name": "stdout",
     "output_type": "stream",
     "text": [
      "CPU times: user 1.66 ms, sys: 976 µs, total: 2.64 ms\n",
      "Wall time: 1.77 ms\n"
     ]
    },
    {
     "data": {
      "text/plain": [
       "tensor(14)"
      ]
     },
     "execution_count": 91,
     "metadata": {},
     "output_type": "execute_result"
    }
   ],
   "source": [
    "%%time \n",
    "value=0\n",
    "for i in range(len(tensor)):\n",
    "    value += tensor[i]*tensor[i]\n",
    "value ## 1.77 milliseconds"
   ]
  },
  {
   "cell_type": "code",
   "execution_count": 94,
   "id": "c5a5503f-1a57-4b11-9ba6-0a226353196e",
   "metadata": {},
   "outputs": [
    {
     "name": "stdout",
     "output_type": "stream",
     "text": [
      "CPU times: user 508 µs, sys: 124 µs, total: 632 µs\n",
      "Wall time: 596 µs\n"
     ]
    },
    {
     "data": {
      "text/plain": [
       "tensor(14)"
      ]
     },
     "execution_count": 94,
     "metadata": {},
     "output_type": "execute_result"
    }
   ],
   "source": [
    "%%time\n",
    "torch.matmul(tensor, tensor) ## 589 micro-seconds\n",
    "# also can use `@` for matrix multiplication"
   ]
  },
  {
   "cell_type": "markdown",
   "id": "7e572ed2-0e16-4188-a0f9-42a6938b38b2",
   "metadata": {},
   "source": [
    "### Matrix Multiplication - Two Main Rules\n",
    "\n",
    "One of the most common errors in deep learning is shape error\n",
    "\n",
    "**`Rule 1`**: The **inner dimensions** must match\n",
    "* `(3,2) @ (3,2)` - won't work\n",
    "* `(2,3) @ (3,2)` - will work\n",
    "* `(3, 2) @ (2,3)` - will work\n",
    "  \n",
    "**`Rule 2`**: The resulting matrix has a shape of the **outer dimensions**\n",
    "* `(2,3) @ (3,2)` -> `(2,2)`\n",
    "*  `3,2 @ (2,3)` -> `(3,3)`"
   ]
  },
  {
   "cell_type": "code",
   "execution_count": null,
   "id": "1dd81553-8413-4393-b80f-a4c9302d2373",
   "metadata": {},
   "outputs": [],
   "source": []
  },
  {
   "cell_type": "code",
   "execution_count": 95,
   "id": "25eccb61-e550-4e2c-8e6c-2e41a4218cb7",
   "metadata": {},
   "outputs": [
    {
     "data": {
      "text/plain": [
       "torch.Size([3, 2])"
      ]
     },
     "execution_count": 95,
     "metadata": {},
     "output_type": "execute_result"
    }
   ],
   "source": [
    "torch.rand(3,2).shape"
   ]
  },
  {
   "cell_type": "code",
   "execution_count": 97,
   "id": "384c2e8e-83d2-435c-b62b-c07f79c6308f",
   "metadata": {},
   "outputs": [
    {
     "data": {
      "text/plain": [
       "tensor([[0.2353, 0.1603, 0.2170],\n",
       "        [0.3643, 0.2307, 0.3567],\n",
       "        [0.3467, 0.2316, 0.3251]])"
      ]
     },
     "execution_count": 97,
     "metadata": {},
     "output_type": "execute_result"
    }
   ],
   "source": [
    "torch.matmul(torch.rand(3,2), torch.rand(2,3))"
   ]
  },
  {
   "cell_type": "code",
   "execution_count": 100,
   "id": "16900ba2-a829-4d92-ba54-be88e44f693b",
   "metadata": {},
   "outputs": [
    {
     "data": {
      "text/plain": [
       "torch.Size([10, 10])"
      ]
     },
     "execution_count": 100,
     "metadata": {},
     "output_type": "execute_result"
    }
   ],
   "source": [
    "torch.matmul(torch.rand(10,10), torch.rand(10,10)).shape"
   ]
  },
  {
   "cell_type": "code",
   "execution_count": null,
   "id": "726fcd99-c48b-46f2-aea4-6e58ff0295ae",
   "metadata": {},
   "outputs": [],
   "source": []
  }
 ],
 "metadata": {
  "kernelspec": {
   "display_name": "Python 3 (ipykernel)",
   "language": "python",
   "name": "python3"
  },
  "language_info": {
   "codemirror_mode": {
    "name": "ipython",
    "version": 3
   },
   "file_extension": ".py",
   "mimetype": "text/x-python",
   "name": "python",
   "nbconvert_exporter": "python",
   "pygments_lexer": "ipython3",
   "version": "3.10.8"
  }
 },
 "nbformat": 4,
 "nbformat_minor": 5
}
